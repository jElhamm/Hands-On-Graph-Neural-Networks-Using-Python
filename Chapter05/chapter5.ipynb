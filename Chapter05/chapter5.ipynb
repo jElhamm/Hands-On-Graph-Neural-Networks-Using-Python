{
  "nbformat": 4,
  "nbformat_minor": 0,
  "metadata": {
    "colab": {
      "provenance": []
    },
    "kernelspec": {
      "name": "python3",
      "display_name": "Python 3"
    },
    "language_info": {
      "name": "python"
    }
  },
  "cells": [
    {
      "cell_type": "markdown",
      "source": [
        "# **Hands On Graph Neural Networks Using Python  -  CHAPTER 5**"
      ],
      "metadata": {
        "id": "bS3QIfDzIzkm"
      }
    },
    {
      "cell_type": "markdown",
      "source": [
        "- This code demonstrates the use of Multilayer Perceptron (MLP) and Vanilla Graph Neural Network (GNN) models for node classification on graph datasets using PyTorch and PyTorch Geometric. It starts by installing necessary libraries and setting seeds for reproducibility.\n",
        "\n",
        "- It then loads and analyzes two datasets, \"Cora\" and \"FacebookPagePage\", and provides methods to examine their properties. The code defines an MLP and a basic GNN model, each with methods for training and testing. Finally, it trains and evaluates both models on the datasets, printing performance metrics to compare their effectiveness.\n",
        "\n",
        "\n",
        "\n",
        "\n"
      ],
      "metadata": {
        "id": "cJ2ReqirILyZ"
      }
    },
    {
      "cell_type": "code",
      "execution_count": 2,
      "metadata": {
        "id": "4s_nVBuq_Y2d",
        "colab": {
          "base_uri": "https://localhost:8080/"
        },
        "outputId": "d01ad79a-e3c6-4a28-87b1-5c1863dc6a0a"
      },
      "outputs": [
        {
          "output_type": "stream",
          "name": "stdout",
          "text": [
            "\u001b[2K     \u001b[90m━━━━━━━━━━━━━━━━━━━━━━━━━━━━━━━━━━━━━━━━\u001b[0m \u001b[32m10.9/10.9 MB\u001b[0m \u001b[31m77.6 MB/s\u001b[0m eta \u001b[36m0:00:00\u001b[0m\n",
            "\u001b[2K     \u001b[90m━━━━━━━━━━━━━━━━━━━━━━━━━━━━━━━━━━━━━━━━\u001b[0m \u001b[32m5.1/5.1 MB\u001b[0m \u001b[31m73.8 MB/s\u001b[0m eta \u001b[36m0:00:00\u001b[0m\n",
            "\u001b[2K     \u001b[90m━━━━━━━━━━━━━━━━━━━━━━━━━━━━━━━━━━━━━━━━\u001b[0m \u001b[32m3.4/3.4 MB\u001b[0m \u001b[31m53.6 MB/s\u001b[0m eta \u001b[36m0:00:00\u001b[0m\n",
            "\u001b[2K     \u001b[90m━━━━━━━━━━━━━━━━━━━━━━━━━━━━━━━━━━━━━━━━\u001b[0m \u001b[32m947.1/947.1 kB\u001b[0m \u001b[31m33.2 MB/s\u001b[0m eta \u001b[36m0:00:00\u001b[0m\n",
            "\u001b[?25h"
          ]
        }
      ],
      "source": [
        "!pip install -q torch-scatter~=2.1.0 torch-sparse~=0.6.16 torch-cluster~=1.6.0 torch-spline-conv~=1.2.1 torch-geometric==2.2.0 -f https://data.pyg.org/whl/torch-{torch.__version__}.html\n",
        "\n",
        "import torch\n",
        "import torch.nn.functional as F\n",
        "from torch.nn import Linear\n",
        "from torch_geometric.datasets import Planetoid, FacebookPagePage\n",
        "from torch_geometric.utils import to_dense_adj\n",
        "import pandas as pd"
      ]
    },
    {
      "cell_type": "markdown",
      "source": [
        "### **SeedInitializer Class**\n",
        "\n",
        "- The SeedInitializer class provides a static method to initialize random seeds for ensuring reproducible results.\n",
        "\n",
        "- This method sets the seed for various PyTorch components to avoid variations in output across different runs."
      ],
      "metadata": {
        "id": "emEMZFmeJhcW"
      }
    },
    {
      "cell_type": "code",
      "source": [
        "# Initialize random seeds for reproducibility\n",
        "class SeedInitializer:\n",
        "    @staticmethod\n",
        "    def initialize_seed(seed=0):\n",
        "        torch.manual_seed(seed)\n",
        "        torch.cuda.manual_seed(seed)\n",
        "        torch.cuda.manual_seed_all(seed)\n",
        "        torch.backends.cudnn.deterministic = True\n",
        "        torch.backends.cudnn.benchmark = False\n",
        "\n",
        "# Initialize seed\n",
        "SeedInitializer.initialize_seed()\n"
      ],
      "metadata": {
        "id": "jBiSlgUd_u04"
      },
      "execution_count": 20,
      "outputs": []
    },
    {
      "cell_type": "markdown",
      "source": [
        "### **DatasetLoader Class**\n",
        "\n",
        "- The DatasetLoader class is responsible for loading and analyzing graph datasets using PyTorch Geometric.\n",
        "\n",
        "- It supports loading the \"Cora\" and \"FacebookPagePage\" datasets, and provides methods to print detailed information about the datasets and their graph structures."
      ],
      "metadata": {
        "id": "BKCuRkzMJwb0"
      }
    },
    {
      "cell_type": "code",
      "source": [
        "# Load and analyze datasets\n",
        "class DatasetLoader:\n",
        "    def __init__(self, dataset_name=\"Cora\", root=\".\"):\n",
        "        if dataset_name == \"Cora\":\n",
        "            self.dataset = Planetoid(root=root, name=dataset_name)\n",
        "        elif dataset_name == \"FacebookPagePage\":\n",
        "            self.dataset = FacebookPagePage(root=root)\n",
        "        self.data = self.dataset[0]\n",
        "\n",
        "    def print_dataset_info(self):\n",
        "        print(f'Dataset: {self.dataset}')\n",
        "        print('---------------')\n",
        "        print(f'Number of graphs: {len(self.dataset)}')\n",
        "        print(f'Number of nodes: {self.data.x.shape[0]}')\n",
        "        print(f'Number of features: {self.dataset.num_features}')\n",
        "        print(f'Number of classes: {self.dataset.num_classes}')\n",
        "\n",
        "    def print_graph_info(self):\n",
        "        print(f'\\nGraph:')\n",
        "        print('------')\n",
        "        print(f'Edges are directed: {self.data.is_directed()}')\n",
        "        print(f'Graph has isolated nodes: {self.data.has_isolated_nodes()}')\n",
        "        print(f'Graph has loops: {self.data.has_self_loops()}')\n"
      ],
      "metadata": {
        "id": "bHeEVYpW_zyf"
      },
      "execution_count": 21,
      "outputs": []
    },
    {
      "cell_type": "markdown",
      "source": [
        "### **MLP Class**\n",
        "\n",
        "- The MLP (Multilayer Perceptron) class defines a simple neural network model for node classification in graphs.\n",
        "\n",
        "- It includes methods for training (fit), testing (test), and calculating accuracy. The model uses two fully connected layers and applies ReLU activation."
      ],
      "metadata": {
        "id": "07Io4ov3KYzV"
      }
    },
    {
      "cell_type": "code",
      "source": [
        "# Define MLP model\n",
        "class MLP(torch.nn.Module):\n",
        "    def __init__(self, dim_in, dim_h, dim_out):\n",
        "        super().__init__()\n",
        "        self.linear1 = Linear(dim_in, dim_h)\n",
        "        self.linear2 = Linear(dim_h, dim_out)\n",
        "\n",
        "    def forward(self, x):\n",
        "        x = self.linear1(x)\n",
        "        x = torch.relu(x)\n",
        "        x = self.linear2(x)\n",
        "        return F.log_softmax(x, dim=1)\n",
        "\n",
        "    def fit(self, data, epochs, learning_rate=0.01, weight_decay=5e-4):\n",
        "        criterion = torch.nn.CrossEntropyLoss()\n",
        "        optimizer = torch.optim.Adam(self.parameters(), lr=learning_rate, weight_decay=weight_decay)\n",
        "\n",
        "        self.train()\n",
        "        for epoch in range(epochs+1):\n",
        "            optimizer.zero_grad()\n",
        "            out = self(data.x)\n",
        "            loss = criterion(out[data.train_mask], data.y[data.train_mask])\n",
        "            acc = self.accuracy(out[data.train_mask].argmax(dim=1), data.y[data.train_mask])\n",
        "            loss.backward()\n",
        "            optimizer.step()\n",
        "\n",
        "            if epoch % 20 == 0:\n",
        "                val_loss = criterion(out[data.val_mask], data.y[data.val_mask])\n",
        "                val_acc = self.accuracy(out[data.val_mask].argmax(dim=1), data.y[data.val_mask])\n",
        "                print(f'Epoch {epoch:>3} | Train Loss: {loss:.3f} | Train Acc:'\n",
        "                      f' {acc*100:>5.2f}% | Val Loss: {val_loss:.2f} | '\n",
        "                      f'Val Acc: {val_acc*100:.2f}%')\n",
        "\n",
        "    @torch.no_grad()\n",
        "    def test(self, data):\n",
        "        self.eval()\n",
        "        out = self(data.x)\n",
        "        acc = self.accuracy(out.argmax(dim=1)[data.test_mask], data.y[data.test_mask])\n",
        "        return acc\n",
        "\n",
        "    @staticmethod\n",
        "    def accuracy(y_pred, y_true):\n",
        "        return torch.sum(y_pred == y_true).item() / len(y_true)\n"
      ],
      "metadata": {
        "id": "WwdsVX0r_2P-"
      },
      "execution_count": 22,
      "outputs": []
    },
    {
      "cell_type": "markdown",
      "source": [
        "VanillaGNNLayer Class\n",
        "\n",
        "- The VanillaGNNLayer class defines a single layer of a basic Graph Neural Network (GNN).\n",
        "\n",
        "- It applies a linear transformation to the input features and then aggregates information from neighboring nodes using the adjacency matrix."
      ],
      "metadata": {
        "id": "6gud8uM9K6l1"
      }
    },
    {
      "cell_type": "code",
      "source": [
        "# Define Vanilla GNN layer and model\n",
        "class VanillaGNNLayer(torch.nn.Module):\n",
        "    def __init__(self, dim_in, dim_out):\n",
        "        super().__init__()\n",
        "        self.linear = Linear(dim_in, dim_out, bias=False)\n",
        "\n",
        "    def forward(self, x, adjacency):\n",
        "        x = self.linear(x)\n",
        "        x = torch.sparse.mm(adjacency, x)\n",
        "        return x\n"
      ],
      "metadata": {
        "id": "hl2w5Ccq_5BF"
      },
      "execution_count": 23,
      "outputs": []
    },
    {
      "cell_type": "markdown",
      "source": [
        "### **VanillaGNN Class**\n",
        "\n",
        "- The VanillaGNN class defines a basic two-layer Graph Neural Network (GNN) model for node classification.\n",
        "\n",
        "- It stacks two VanillaGNNLayer layers, applying ReLU activation between them. The model includes methods for training (fit), testing (test), and forwarding data through the network."
      ],
      "metadata": {
        "id": "tygH4T_HJ-Jp"
      }
    },
    {
      "cell_type": "code",
      "source": [
        "class VanillaGNN(torch.nn.Module):\n",
        "    def __init__(self, dim_in, dim_h, dim_out):\n",
        "        super().__init__()\n",
        "        self.gnn1 = VanillaGNNLayer(dim_in, dim_h)\n",
        "        self.gnn2 = VanillaGNNLayer(dim_h, dim_out)\n",
        "\n",
        "    def forward(self, x, adjacency):\n",
        "        h = self.gnn1(x, adjacency)\n",
        "        h = torch.relu(h)\n",
        "        h = self.gnn2(h, adjacency)\n",
        "        return F.log_softmax(h, dim=1)\n",
        "\n",
        "    def fit(self, data, adjacency, epochs, learning_rate=0.01, weight_decay=5e-4):\n",
        "        criterion = torch.nn.CrossEntropyLoss()\n",
        "        optimizer = torch.optim.Adam(self.parameters(), lr=learning_rate, weight_decay=weight_decay)\n",
        "\n",
        "        self.train()\n",
        "        for epoch in range(epochs+1):\n",
        "            optimizer.zero_grad()\n",
        "            out = self(data.x, adjacency)\n",
        "            loss = criterion(out[data.train_mask], data.y[data.train_mask])\n",
        "            acc = MLP.accuracy(out[data.train_mask].argmax(dim=1), data.y[data.train_mask])\n",
        "            loss.backward()\n",
        "            optimizer.step()\n",
        "\n",
        "            if epoch % 20 == 0:\n",
        "                val_loss = criterion(out[data.val_mask], data.y[data.val_mask])\n",
        "                val_acc = MLP.accuracy(out[data.val_mask].argmax(dim=1), data.y[data.val_mask])\n",
        "                print(f'Epoch {epoch:>3} | Train Loss: {loss:.3f} | Train Acc:'\n",
        "                      f' {acc*100:>5.2f}% | Val Loss: {val_loss:.2f} | '\n",
        "                      f'Val Acc: {val_acc*100:.2f}%')\n",
        "\n",
        "    @torch.no_grad()\n",
        "    def test(self, data, adjacency):\n",
        "        self.eval()\n",
        "        out = self(data.x, adjacency)\n",
        "        acc = MLP.accuracy(out.argmax(dim=1)[data.test_mask], data.y[data.test_mask])\n",
        "        return acc"
      ],
      "metadata": {
        "id": "gSIqV25IKFcl"
      },
      "execution_count": 24,
      "outputs": []
    },
    {
      "cell_type": "markdown",
      "source": [
        "### **GraphUtils Class**\n",
        "\n",
        "- The GraphUtils class provides utility functions for graph operations. Specifically, it includes a method to create an adjacency matrix from edge indices in the graph, adding self-loops to ensure each node is connected to itself.\n"
      ],
      "metadata": {
        "id": "42rgTx4XLE7t"
      }
    },
    {
      "cell_type": "code",
      "source": [
        "# Utility function for creating adjacency matrix\n",
        "class GraphUtils:\n",
        "    @staticmethod\n",
        "    def create_adjacency_matrix(data):\n",
        "        adjacency = to_dense_adj(data.edge_index)[0]\n",
        "        adjacency += torch.eye(len(adjacency))\n",
        "        return adjacency\n"
      ],
      "metadata": {
        "id": "UdFkh74B_61j"
      },
      "execution_count": 25,
      "outputs": []
    },
    {
      "cell_type": "markdown",
      "source": [
        "### **Load and analyze Cora dataset**"
      ],
      "metadata": {
        "id": "YJXSFVCYKRn2"
      }
    },
    {
      "cell_type": "code",
      "source": [
        "cora_loader = DatasetLoader(\"Cora\")\n",
        "cora_loader.print_dataset_info()\n",
        "cora_loader.print_graph_info()"
      ],
      "metadata": {
        "colab": {
          "base_uri": "https://localhost:8080/"
        },
        "id": "AcKgziicDuew",
        "outputId": "f14e975d-9549-492b-9c29-699b4df80319"
      },
      "execution_count": 26,
      "outputs": [
        {
          "output_type": "stream",
          "name": "stdout",
          "text": [
            "Dataset: Cora()\n",
            "---------------\n",
            "Number of graphs: 1\n",
            "Number of nodes: 2708\n",
            "Number of features: 1433\n",
            "Number of classes: 7\n",
            "\n",
            "Graph:\n",
            "------\n",
            "Edges are directed: False\n",
            "Graph has isolated nodes: False\n",
            "Graph has loops: False\n"
          ]
        }
      ]
    },
    {
      "cell_type": "markdown",
      "source": [
        "### **Convert data to DataFrame**"
      ],
      "metadata": {
        "id": "9yuUj9Y2KYz1"
      }
    },
    {
      "cell_type": "code",
      "source": [
        "df_x = pd.DataFrame(cora_loader.data.x.numpy())\n",
        "df_x['label'] = pd.DataFrame(cora_loader.data.y)\n",
        "print(df_x.head())"
      ],
      "metadata": {
        "colab": {
          "base_uri": "https://localhost:8080/"
        },
        "id": "cOiuJynK_9-u",
        "outputId": "60eac615-bd7e-47f1-b6eb-f015d89f11f8"
      },
      "execution_count": 27,
      "outputs": [
        {
          "output_type": "stream",
          "name": "stdout",
          "text": [
            "     0    1    2    3    4    5    6    7    8    9  ...  1424  1425  1426  \\\n",
            "0  0.0  0.0  0.0  0.0  0.0  0.0  0.0  0.0  0.0  0.0  ...   0.0   0.0   0.0   \n",
            "1  0.0  0.0  0.0  0.0  0.0  0.0  0.0  0.0  0.0  0.0  ...   0.0   0.0   0.0   \n",
            "2  0.0  0.0  0.0  0.0  0.0  0.0  0.0  0.0  0.0  0.0  ...   0.0   0.0   0.0   \n",
            "3  0.0  0.0  0.0  0.0  0.0  0.0  0.0  0.0  0.0  0.0  ...   0.0   0.0   0.0   \n",
            "4  0.0  0.0  0.0  1.0  0.0  0.0  0.0  0.0  0.0  0.0  ...   0.0   0.0   0.0   \n",
            "\n",
            "   1427  1428  1429  1430  1431  1432  label  \n",
            "0   0.0   0.0   0.0   0.0   0.0   0.0      3  \n",
            "1   0.0   0.0   0.0   0.0   0.0   0.0      4  \n",
            "2   0.0   0.0   0.0   0.0   0.0   0.0      4  \n",
            "3   0.0   0.0   0.0   0.0   0.0   0.0      0  \n",
            "4   0.0   0.0   0.0   0.0   0.0   0.0      3  \n",
            "\n",
            "[5 rows x 1434 columns]\n"
          ]
        }
      ]
    },
    {
      "cell_type": "markdown",
      "source": [
        "### **MLP model**"
      ],
      "metadata": {
        "id": "7tA75u3hKdwV"
      }
    },
    {
      "cell_type": "code",
      "source": [
        "mlp = MLP(cora_loader.dataset.num_features, 16, cora_loader.dataset.num_classes)\n",
        "print(mlp)\n",
        "mlp.fit(cora_loader.data, epochs=100)\n",
        "acc = mlp.test(cora_loader.data)\n",
        "print(f'\\nMLP test accuracy: {acc*100:.2f}%')"
      ],
      "metadata": {
        "colab": {
          "base_uri": "https://localhost:8080/"
        },
        "id": "wSekpl0sA_1Q",
        "outputId": "e0ca98e5-e77a-4ea3-f51b-feb82a4d9661"
      },
      "execution_count": 28,
      "outputs": [
        {
          "output_type": "stream",
          "name": "stdout",
          "text": [
            "MLP(\n",
            "  (linear1): Linear(in_features=1433, out_features=16, bias=True)\n",
            "  (linear2): Linear(in_features=16, out_features=7, bias=True)\n",
            ")\n",
            "Epoch   0 | Train Loss: 1.959 | Train Acc: 14.29% | Val Loss: 2.00 | Val Acc: 12.40%\n",
            "Epoch  20 | Train Loss: 0.110 | Train Acc: 100.00% | Val Loss: 1.46 | Val Acc: 49.40%\n",
            "Epoch  40 | Train Loss: 0.014 | Train Acc: 100.00% | Val Loss: 1.44 | Val Acc: 51.00%\n",
            "Epoch  60 | Train Loss: 0.008 | Train Acc: 100.00% | Val Loss: 1.40 | Val Acc: 53.80%\n",
            "Epoch  80 | Train Loss: 0.008 | Train Acc: 100.00% | Val Loss: 1.37 | Val Acc: 55.40%\n",
            "Epoch 100 | Train Loss: 0.009 | Train Acc: 100.00% | Val Loss: 1.34 | Val Acc: 54.60%\n",
            "\n",
            "MLP test accuracy: 53.40%\n"
          ]
        }
      ]
    },
    {
      "cell_type": "markdown",
      "source": [
        "### **Vanilla GNN model**"
      ],
      "metadata": {
        "id": "6mrqdUagKhfO"
      }
    },
    {
      "cell_type": "code",
      "source": [
        "adjacency = GraphUtils.create_adjacency_matrix(cora_loader.data)\n",
        "gnn = VanillaGNN(cora_loader.dataset.num_features, 16, cora_loader.dataset.num_classes)\n",
        "print(gnn)\n",
        "gnn.fit(cora_loader.data, adjacency, epochs=100)\n",
        "acc = gnn.test(cora_loader.data, adjacency)\n",
        "print(f'\\nGNN test accuracy: {acc*100:.2f}%')"
      ],
      "metadata": {
        "colab": {
          "base_uri": "https://localhost:8080/"
        },
        "id": "JVAl-knHANfx",
        "outputId": "18d44110-c631-4b86-ba8e-ea137aa7ca31"
      },
      "execution_count": 29,
      "outputs": [
        {
          "output_type": "stream",
          "name": "stdout",
          "text": [
            "VanillaGNN(\n",
            "  (gnn1): VanillaGNNLayer(\n",
            "    (linear): Linear(in_features=1433, out_features=16, bias=False)\n",
            "  )\n",
            "  (gnn2): VanillaGNNLayer(\n",
            "    (linear): Linear(in_features=16, out_features=7, bias=False)\n",
            "  )\n",
            ")\n",
            "Epoch   0 | Train Loss: 1.991 | Train Acc: 15.71% | Val Loss: 2.11 | Val Acc: 9.40%\n",
            "Epoch  20 | Train Loss: 0.065 | Train Acc: 99.29% | Val Loss: 1.47 | Val Acc: 76.80%\n",
            "Epoch  40 | Train Loss: 0.014 | Train Acc: 100.00% | Val Loss: 2.11 | Val Acc: 75.40%\n",
            "Epoch  60 | Train Loss: 0.007 | Train Acc: 100.00% | Val Loss: 2.22 | Val Acc: 75.40%\n",
            "Epoch  80 | Train Loss: 0.004 | Train Acc: 100.00% | Val Loss: 2.20 | Val Acc: 76.80%\n",
            "Epoch 100 | Train Loss: 0.003 | Train Acc: 100.00% | Val Loss: 2.19 | Val Acc: 77.00%\n",
            "\n",
            "GNN test accuracy: 76.60%\n"
          ]
        }
      ]
    },
    {
      "cell_type": "markdown",
      "source": [
        "### **Load and analyze FacebookPagePage dataset**"
      ],
      "metadata": {
        "id": "OpWrojUrKlCH"
      }
    },
    {
      "cell_type": "code",
      "source": [
        "facebook_loader = DatasetLoader(\"FacebookPagePage\")\n",
        "facebook_loader.print_dataset_info()\n",
        "facebook_loader.print_graph_info()"
      ],
      "metadata": {
        "colab": {
          "base_uri": "https://localhost:8080/"
        },
        "id": "rkmKk1_jAR-U",
        "outputId": "3c23d4a0-9d8e-43e2-f03b-c2a00cd2d566"
      },
      "execution_count": 30,
      "outputs": [
        {
          "output_type": "stream",
          "name": "stdout",
          "text": [
            "Dataset: FacebookPagePage()\n",
            "---------------\n",
            "Number of graphs: 1\n",
            "Number of nodes: 22470\n",
            "Number of features: 128\n",
            "Number of classes: 4\n",
            "\n",
            "Graph:\n",
            "------\n",
            "Edges are directed: False\n",
            "Graph has isolated nodes: False\n",
            "Graph has loops: True\n"
          ]
        }
      ]
    },
    {
      "cell_type": "markdown",
      "source": [
        "### **Create masks for FacebookPagePage dataset**"
      ],
      "metadata": {
        "id": "_nbF4aHdKn3E"
      }
    },
    {
      "cell_type": "code",
      "source": [
        "facebook_loader.data.train_mask = range(18000)\n",
        "facebook_loader.data.val_mask = range(18001, 20000)\n",
        "facebook_loader.data.test_mask = range(20001, 22470)"
      ],
      "metadata": {
        "id": "lT2D-ni8AUg5"
      },
      "execution_count": 31,
      "outputs": []
    },
    {
      "cell_type": "code",
      "source": [
        "# Adjacency matrix\n",
        "adjacency = GraphUtils.create_adjacency_matrix(facebook_loader.data)"
      ],
      "metadata": {
        "id": "ww4HeCFdAXDP"
      },
      "execution_count": 32,
      "outputs": []
    },
    {
      "cell_type": "markdown",
      "source": [
        "### **MLP on FacebookPagePage**"
      ],
      "metadata": {
        "id": "uX8Mb3l4K9nE"
      }
    },
    {
      "cell_type": "code",
      "source": [
        "mlp = MLP(facebook_loader.dataset.num_features, 16, facebook_loader.dataset.num_classes)\n",
        "print(mlp)\n",
        "mlp.fit(facebook_loader.data, epochs=100)\n",
        "acc = mlp.test(facebook_loader.data)\n",
        "print(f'\\nMLP test accuracy: {acc*100:.2f}%\\n')"
      ],
      "metadata": {
        "colab": {
          "base_uri": "https://localhost:8080/"
        },
        "id": "pCh2A4VuEJ4C",
        "outputId": "2e006dbd-cf94-472a-8c1a-5878ac7edc9b"
      },
      "execution_count": 33,
      "outputs": [
        {
          "output_type": "stream",
          "name": "stdout",
          "text": [
            "MLP(\n",
            "  (linear1): Linear(in_features=128, out_features=16, bias=True)\n",
            "  (linear2): Linear(in_features=16, out_features=4, bias=True)\n",
            ")\n",
            "Epoch   0 | Train Loss: 1.401 | Train Acc: 28.11% | Val Loss: 1.40 | Val Acc: 28.91%\n",
            "Epoch  20 | Train Loss: 0.671 | Train Acc: 73.47% | Val Loss: 0.68 | Val Acc: 72.94%\n",
            "Epoch  40 | Train Loss: 0.579 | Train Acc: 76.95% | Val Loss: 0.61 | Val Acc: 74.89%\n",
            "Epoch  60 | Train Loss: 0.549 | Train Acc: 78.20% | Val Loss: 0.60 | Val Acc: 75.59%\n",
            "Epoch  80 | Train Loss: 0.533 | Train Acc: 78.76% | Val Loss: 0.60 | Val Acc: 75.39%\n",
            "Epoch 100 | Train Loss: 0.520 | Train Acc: 79.23% | Val Loss: 0.60 | Val Acc: 75.39%\n",
            "\n",
            "MLP test accuracy: 75.33%\n",
            "\n"
          ]
        }
      ]
    },
    {
      "cell_type": "markdown",
      "source": [
        "### **GCN on FacebookPagePage**"
      ],
      "metadata": {
        "id": "cwLNPhZBLBDm"
      }
    },
    {
      "cell_type": "code",
      "source": [
        "gnn = VanillaGNN(facebook_loader.dataset.num_features, 16, facebook_loader.dataset.num_classes)\n",
        "print(gnn)\n",
        "gnn.fit(facebook_loader.data, adjacency, epochs=100)\n",
        "acc = gnn.test(facebook_loader.data, adjacency)\n",
        "print(f'\\nGNN test accuracy: {acc*100:.2f}%')"
      ],
      "metadata": {
        "colab": {
          "base_uri": "https://localhost:8080/"
        },
        "id": "fx13bRwLELS7",
        "outputId": "864d5ace-8f1b-42fc-c359-24f63c52f3f4"
      },
      "execution_count": 34,
      "outputs": [
        {
          "output_type": "stream",
          "name": "stdout",
          "text": [
            "VanillaGNN(\n",
            "  (gnn1): VanillaGNNLayer(\n",
            "    (linear): Linear(in_features=128, out_features=16, bias=False)\n",
            "  )\n",
            "  (gnn2): VanillaGNNLayer(\n",
            "    (linear): Linear(in_features=16, out_features=4, bias=False)\n",
            "  )\n",
            ")\n",
            "Epoch   0 | Train Loss: 176.683 | Train Acc: 28.31% | Val Loss: 173.10 | Val Acc: 28.41%\n",
            "Epoch  20 | Train Loss: 6.675 | Train Acc: 79.69% | Val Loss: 4.49 | Val Acc: 80.19%\n",
            "Epoch  40 | Train Loss: 2.284 | Train Acc: 82.15% | Val Loss: 1.60 | Val Acc: 83.64%\n",
            "Epoch  60 | Train Loss: 1.233 | Train Acc: 83.91% | Val Loss: 1.06 | Val Acc: 84.34%\n",
            "Epoch  80 | Train Loss: 0.812 | Train Acc: 84.94% | Val Loss: 0.78 | Val Acc: 84.79%\n",
            "Epoch 100 | Train Loss: 1.321 | Train Acc: 84.33% | Val Loss: 0.96 | Val Acc: 84.39%\n",
            "\n",
            "GNN test accuracy: 82.67%\n"
          ]
        }
      ]
    }
  ]
}