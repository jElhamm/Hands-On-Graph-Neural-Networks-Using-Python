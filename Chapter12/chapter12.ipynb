{
  "cells": [
    {
      "cell_type": "markdown",
      "metadata": {
        "id": "QmRAEtvJ_6OT"
      },
      "source": [
        "# **Hands On Graph Neural Networks Using Python  -  CHAPTER 12**"
      ]
    },
    {
      "cell_type": "markdown",
      "metadata": {
        "id": "8HE2uMKK_7Qp"
      },
      "source": [
        "- This code implements and trains a Graph Neural Network (GNN) model using PyTorch Geometric.\n",
        "\n",
        "- It includes three model classes: `GCNConv`, `GATModel`, and `HANModel`, with `HANModel` being used in the training loop. The dataset is loaded from the DBLP collection, and a `HANModel` is initialized and trained for 101 epochs.\n",
        "\n",
        "- During training, the model's performance is evaluated using accuracy, precision, recall, and F1 score on both training and validation sets every 20 epochs. Additionally, model checkpoints are saved periodically.\n",
        "\n",
        "- After training, the model is tested on a separate test set, and final metrics are computed. The training loss is plotted against epochs to visualize the learning process. The `compute_metrics` function calculates precision, recall, and F1 score using `precision_recall_fscore_support` from scikit-learn."
      ]
    },
    {
      "cell_type": "code",
      "source": [
        "!pip install -q torch-scatter~=2.1.0 torch-sparse~=0.6.16 torch-cluster~=1.6.0 torch-spline-conv~=1.2.1 torch-geometric==2.2.0 -f https://data.pyg.org/whl/torch-{torch.__version__}.html"
      ],
      "metadata": {
        "id": "6W4HNaQUPOWg",
        "colab": {
          "base_uri": "https://localhost:8080/"
        },
        "outputId": "1f60afe1-fe1e-473f-f4d1-e0584c2a7d0b"
      },
      "execution_count": 39,
      "outputs": [
        {
          "output_type": "stream",
          "name": "stdout",
          "text": [
            "\u001b[2K     \u001b[90m━━━━━━━━━━━━━━━━━━━━━━━━━━━━━━━━━━━━━━━━\u001b[0m \u001b[32m565.0/565.0 kB\u001b[0m \u001b[31m3.1 MB/s\u001b[0m eta \u001b[36m0:00:00\u001b[0m\n",
            "\u001b[?25h  Preparing metadata (setup.py) ... \u001b[?25l\u001b[?25hdone\n",
            "  Building wheel for torch-geometric (setup.py) ... \u001b[?25l\u001b[?25hdone\n"
          ]
        }
      ]
    },
    {
      "cell_type": "code",
      "execution_count": 10,
      "metadata": {
        "id": "1MQVfb0d6fsC"
      },
      "outputs": [],
      "source": [
        "import torch\n",
        "import torch.nn as nn\n",
        "import torch.nn.functional as F\n",
        "import matplotlib.pyplot as plt\n",
        "from torch_geometric.nn import to_hetero\n",
        "from torch_geometric.datasets import DBLP\n",
        "from torch_geometric.data import HeteroData\n",
        "from torch_geometric.utils import add_self_loops, degree\n",
        "from sklearn.metrics import precision_recall_fscore_support\n",
        "from torch_geometric.nn import MessagePassing, GATConv, HANConv\n",
        "import warnings\n",
        "warnings.filterwarnings(\"ignore\")"
      ]
    },
    {
      "cell_type": "markdown",
      "metadata": {
        "id": "OfW7IC_wAgi_"
      },
      "source": [
        "### **GCNConv Class**\n",
        "\n",
        " This class defines a `custom graph convolution layer` using message passing. It performs graph convolution by first adding self-loops to the edges of the graph, then applying a linear transformation to the node features. The degree of each node is used to compute normalization factors, which adjust the contribution of each neighboring node to the convolution process. The message function defines how messages are aggregated from neighboring nodes, using these normalization factors."
      ]
    },
    {
      "cell_type": "code",
      "execution_count": 11,
      "metadata": {
        "id": "GnMbvLolx5ZD"
      },
      "outputs": [],
      "source": [
        "class GCNConv(MessagePassing):\n",
        "    def __init__(self, dim_in, dim_h):\n",
        "        super().__init__(aggr='add')\n",
        "        self.linear = nn.Linear(dim_in, dim_h, bias=False)\n",
        "\n",
        "    def forward(self, x, edge_index):\n",
        "        edge_index, _ = add_self_loops(edge_index, num_nodes=x.size(0))\n",
        "        x = self.linear(x)\n",
        "        row, col = edge_index\n",
        "        deg = degree(col, x.size(0), dtype=x.dtype)\n",
        "        deg_inv_sqrt = deg.pow(-0.5)\n",
        "        deg_inv_sqrt[deg_inv_sqrt == float('inf')] = 0\n",
        "        norm = deg_inv_sqrt[row] * deg_inv_sqrt[col]\n",
        "        out = self.propagate(edge_index, x=x, norm=norm)\n",
        "        return out\n",
        "\n",
        "    def message(self, x, norm):\n",
        "        return norm.view(-1, 1) * x"
      ]
    },
    {
      "cell_type": "markdown",
      "metadata": {
        "id": "rvI2Zs6UA4Eh"
      },
      "source": [
        "### **Graph Attention Network Model Class**\n",
        "\n",
        "This class represents a `Graph Attention Network (GAT) model`. It utilizes the GATConv layer to compute node embeddings with attention mechanisms. The model takes node features and edge indices as input, applies the GAT layer to capture the attention-based relationships between nodes, and then uses a linear layer to produce the final output features. This model is designed to handle heterogenous graphs with multiple types of relationships."
      ]
    },
    {
      "cell_type": "code",
      "execution_count": 12,
      "metadata": {
        "id": "-VXKVy596ku9"
      },
      "outputs": [],
      "source": [
        "class GATModel(nn.Module):\n",
        "    def __init__(self, dim_h, dim_out):\n",
        "        super().__init__()\n",
        "        self.conv = GATConv((-1, -1), dim_h, add_self_loops=False)\n",
        "        self.linear = nn.Linear(dim_h, dim_out)\n",
        "\n",
        "    def forward(self, x_dict, edge_index_dict):\n",
        "        h = self.conv(x_dict['author'], edge_index_dict[('author', 'metapath_0', 'author')]).relu()\n",
        "        h = self.linear(h)\n",
        "        return h"
      ]
    },
    {
      "cell_type": "markdown",
      "metadata": {
        "id": "3hmvKixiBKqC"
      },
      "source": [
        "### **Heterogeneous Graph Attention Network Model Class**\n",
        "\n",
        "This class defines a `Heterogeneous Graph Attention Network (HAN) model`. It leverages the HANConv layer to process heterogeneous graphs, where nodes and edges can have different types. The HANConv layer performs attention-based aggregation across different types of edges and nodes. The model includes a linear layer to produce the final output features after processing through the HAN layer. This class is specifically designed to handle complex graph structures with diverse node and edge types."
      ]
    },
    {
      "cell_type": "code",
      "execution_count": 13,
      "metadata": {
        "id": "nunrBgV4BJwn"
      },
      "outputs": [],
      "source": [
        "class HANModel(nn.Module):\n",
        "    def __init__(self, dim_in, dim_out, dim_h=128, heads=8):\n",
        "        super().__init__()\n",
        "        self.han = HANConv(dim_in, dim_h, heads=heads, dropout=0.6, metadata=data.metadata())\n",
        "        self.linear = nn.Linear(dim_h, dim_out)\n",
        "\n",
        "    def forward(self, x_dict, edge_index_dict):\n",
        "        out = self.han(x_dict, edge_index_dict)\n",
        "        out = self.linear(out['author'])\n",
        "        return out"
      ]
    },
    {
      "cell_type": "markdown",
      "metadata": {
        "id": "yLZdiFdXBgha"
      },
      "source": [
        "### **Prepare data and models**"
      ]
    },
    {
      "cell_type": "code",
      "execution_count": 14,
      "metadata": {
        "id": "6GXfQ4To5L32"
      },
      "outputs": [],
      "source": [
        "dataset = DBLP('.')\n",
        "data = dataset[0]\n",
        "data['conference'].x = torch.zeros(20, 1)\n",
        "\n",
        "gcn_model = GCNConv(dim_in=16, dim_h=32)\n",
        "gat_model = GATModel(dim_h=64, dim_out=4)\n",
        "han_model = HANModel(dim_in=-1, dim_out=4)"
      ]
    },
    {
      "cell_type": "markdown",
      "source": [
        "### **Ensure correct initialization and forwarding**"
      ],
      "metadata": {
        "id": "8oIJp6xRSwR-"
      }
    },
    {
      "cell_type": "code",
      "execution_count": 15,
      "metadata": {
        "id": "i-e61q-y49NK"
      },
      "outputs": [],
      "source": [
        "optimizer = torch.optim.Adam(han_model.parameters(), lr=0.001, weight_decay=0.001)\n",
        "device = torch.device('cuda' if torch.cuda.is_available() else 'cpu')\n",
        "data, han_model = data.to(device), han_model.to(device)"
      ]
    },
    {
      "cell_type": "markdown",
      "source": [
        "### **Print Keys**"
      ],
      "metadata": {
        "id": "pPhGDf2aTUxH"
      }
    },
    {
      "cell_type": "code",
      "execution_count": 22,
      "metadata": {
        "id": "V3d-xwBt5rFJ",
        "colab": {
          "base_uri": "https://localhost:8080/"
        },
        "outputId": "0e4a3db0-d5f6-4216-efec-ffc9e02266b7"
      },
      "outputs": [
        {
          "output_type": "stream",
          "name": "stdout",
          "text": [
            "\n",
            "\n",
            "Keys in edge_index_dict:\n",
            " dict_keys([('author', 'to', 'paper'), ('paper', 'to', 'author'), ('paper', 'to', 'term'), ('paper', 'to', 'conference'), ('term', 'to', 'paper'), ('conference', 'to', 'paper')]) \n",
            "\n",
            "\n"
          ]
        }
      ],
      "source": [
        "print(\"\\n\\nKeys in edge_index_dict:\\n\", data.edge_index_dict.keys(), \"\\n\\n\")"
      ]
    },
    {
      "cell_type": "markdown",
      "source": [
        "### **Training**"
      ],
      "metadata": {
        "id": "IxbF0_89KOPQ"
      }
    },
    {
      "cell_type": "code",
      "source": [
        "@torch.no_grad()\n",
        "def test(mask, model, data):\n",
        "    model.eval()\n",
        "    pred = model(data.x_dict, data.edge_index_dict).argmax(dim=-1)\n",
        "    acc = (pred[mask] == data['author'].y[mask]).sum() / mask.sum()\n",
        "    return float(acc), pred[mask].cpu().numpy()\n",
        "\n",
        "def compute_metrics(preds, labels):\n",
        "    precision, recall, f1, _ = precision_recall_fscore_support(labels, preds, average='weighted')\n",
        "    return precision, recall, f1\n",
        "\n",
        "# Training loop\n",
        "train_losses = []\n",
        "for epoch in range(101):\n",
        "    han_model.train()\n",
        "    optimizer.zero_grad()\n",
        "    out = han_model(data.x_dict, data.edge_index_dict)\n",
        "    mask = data['author'].train_mask\n",
        "    loss = F.cross_entropy(out[mask], data['author'].y[mask])\n",
        "    loss.backward()\n",
        "    optimizer.step()\n",
        "\n",
        "    train_losses.append(loss.item())\n",
        "    if epoch % 20 == 0:\n",
        "        train_acc, train_preds = test(data['author'].train_mask, han_model, data)\n",
        "        val_acc, val_preds = test(data['author'].val_mask, han_model, data)\n",
        "\n",
        "        train_precision, train_recall, train_f1 = compute_metrics(train_preds, data['author'].y[data['author'].train_mask].cpu().numpy())\n",
        "        val_precision, val_recall, val_f1 = compute_metrics(val_preds, data['author'].y[data['author'].val_mask].cpu().numpy())\n",
        "        print(\"\\n\\n------------------------------------------------------------------------------------------------------------\")\n",
        "        print(f'Epoch: {epoch:>3} | Train Loss: {loss:.4f} | Train Acc: {train_acc*100:.2f}% | Val Acc: {val_acc*100:.2f}%')\n",
        "        print(f'\\n    * Train Precision: {train_precision:.2f},\\n    * Train Recall: {train_recall:.2f},\\n    * Train F1: {train_f1:.2f}')\n",
        "        print(f'    * Val Precision: {val_precision:.2f},\\n    * Val Recall: {val_recall:.2f},\\n    * Val F1: {val_f1:.2f}')\n",
        "\n",
        "        # Save model checkpoint\n",
        "        torch.save(han_model.state_dict(), f'han_model_epoch_{epoch}.pth')"
      ],
      "metadata": {
        "id": "rn1lNG_MKLfs",
        "outputId": "ee801566-1910-424d-e615-caf5a2574bcf",
        "colab": {
          "base_uri": "https://localhost:8080/"
        }
      },
      "execution_count": 23,
      "outputs": [
        {
          "output_type": "stream",
          "name": "stdout",
          "text": [
            "\n",
            "\n",
            "------------------------------------------------------------------------------------------------------------\n",
            "Epoch:   0 | Train Loss: 1.3803 | Train Acc: 36.75% | Val Acc: 30.00%\n",
            "\n",
            "    * Train Precision: 0.56,\n",
            "    * Train Recall: 0.37,\n",
            "    * Train F1: 0.27\n",
            "    * Val Precision: 0.18,\n",
            "    * Val Recall: 0.30,\n",
            "    * Val F1: 0.18\n",
            "\n",
            "\n",
            "------------------------------------------------------------------------------------------------------------\n",
            "Epoch:  20 | Train Loss: 1.1549 | Train Acc: 89.75% | Val Acc: 67.25%\n",
            "\n",
            "    * Train Precision: 0.91,\n",
            "    * Train Recall: 0.90,\n",
            "    * Train F1: 0.88\n",
            "    * Val Precision: 0.75,\n",
            "    * Val Recall: 0.67,\n",
            "    * Val F1: 0.61\n",
            "\n",
            "\n",
            "------------------------------------------------------------------------------------------------------------\n",
            "Epoch:  40 | Train Loss: 0.7812 | Train Acc: 95.75% | Val Acc: 71.50%\n",
            "\n",
            "    * Train Precision: 0.96,\n",
            "    * Train Recall: 0.96,\n",
            "    * Train F1: 0.96\n",
            "    * Val Precision: 0.77,\n",
            "    * Val Recall: 0.71,\n",
            "    * Val F1: 0.68\n",
            "\n",
            "\n",
            "------------------------------------------------------------------------------------------------------------\n",
            "Epoch:  60 | Train Loss: 0.4733 | Train Acc: 98.25% | Val Acc: 78.00%\n",
            "\n",
            "    * Train Precision: 0.98,\n",
            "    * Train Recall: 0.98,\n",
            "    * Train F1: 0.98\n",
            "    * Val Precision: 0.80,\n",
            "    * Val Recall: 0.78,\n",
            "    * Val F1: 0.77\n",
            "\n",
            "\n",
            "------------------------------------------------------------------------------------------------------------\n",
            "Epoch:  80 | Train Loss: 0.3009 | Train Acc: 99.25% | Val Acc: 79.75%\n",
            "\n",
            "    * Train Precision: 0.99,\n",
            "    * Train Recall: 0.99,\n",
            "    * Train F1: 0.99\n",
            "    * Val Precision: 0.81,\n",
            "    * Val Recall: 0.80,\n",
            "    * Val F1: 0.80\n",
            "\n",
            "\n",
            "------------------------------------------------------------------------------------------------------------\n",
            "Epoch: 100 | Train Loss: 0.2206 | Train Acc: 100.00% | Val Acc: 79.25%\n",
            "\n",
            "    * Train Precision: 1.00,\n",
            "    * Train Recall: 1.00,\n",
            "    * Train F1: 1.00\n",
            "    * Val Precision: 0.80,\n",
            "    * Val Recall: 0.79,\n",
            "    * Val F1: 0.79\n"
          ]
        }
      ]
    },
    {
      "cell_type": "markdown",
      "metadata": {
        "id": "bGs0qSq2BtuV"
      },
      "source": [
        "### **Final Test**"
      ]
    },
    {
      "cell_type": "code",
      "execution_count": 38,
      "metadata": {
        "id": "A_iCELiR5tZT",
        "colab": {
          "base_uri": "https://localhost:8080/"
        },
        "outputId": "49d37e6b-3379-408b-97e2-7f679302657e"
      },
      "outputs": [
        {
          "output_type": "stream",
          "name": "stdout",
          "text": [
            "Accuracy: 66.46%\n"
          ]
        }
      ],
      "source": [
        "test_acc, test_preds = test(data['author'].test_mask, han_model, data)\n",
        "test_precision, test_recall, test_f1 = compute_metrics(test_preds, data['author'].y[data['author'].test_mask].cpu().numpy())\n",
        "print(f'\\nTest accuracy: {test_acc*100:.2f}%')\n",
        "print(\"\\n\\n------------------------------------------------------------------------------------------------------------\")\n",
        "print(f'\\n    * Test Precision: {test_precision:.2f},\\n    * Test Recall: {test_recall:.2f},\\n    * Test F1: {test_f1:.2f}')"
      ]
    },
    {
      "cell_type": "markdown",
      "source": [
        "### **Plot training loss**"
      ],
      "metadata": {
        "id": "JMX0Kj_mKBjg"
      }
    },
    {
      "cell_type": "code",
      "source": [
        "plt.figure()\n",
        "plt.plot(range(101), train_losses, label='Train Loss')\n",
        "plt.xlabel('Epoch')\n",
        "plt.ylabel('Loss')\n",
        "plt.title('Training Loss')\n",
        "plt.legend()\n",
        "plt.show()"
      ],
      "metadata": {
        "id": "0tqHCgD-J_c8",
        "outputId": "b95eb4a0-ce7d-4b3e-d346-d623253ba520",
        "colab": {
          "base_uri": "https://localhost:8080/",
          "height": 472
        }
      },
      "execution_count": 24,
      "outputs": [
        {
          "output_type": "display_data",
          "data": {
            "text/plain": [
              "<Figure size 640x480 with 1 Axes>"
            ],
            "image/png": "[encoded data removed]"
          },
          "metadata": {}
        }
      ]
    }
  ],
  "metadata": {
    "colab": {
      "provenance": []
    },
    "kernelspec": {
      "display_name": "Python 3",
      "name": "python3"
    },
    "language_info": {
      "name": "python"
    }
  },
  "nbformat": 4,
  "nbformat_minor": 0
}