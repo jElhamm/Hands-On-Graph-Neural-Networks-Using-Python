{
  "nbformat": 4,
  "nbformat_minor": 0,
  "metadata": {
    "colab": {
      "provenance": []
    },
    "kernelspec": {
      "name": "python3",
      "display_name": "Python 3"
    },
    "language_info": {
      "name": "python"
    }
  },
  "cells": [
    {
      "cell_type": "markdown",
      "source": [
        "# **Hands On Graph Neural Networks Using Python  -  CHAPTER 7**"
      ],
      "metadata": {
        "id": "bS3QIfDzIzkm"
      }
    },
    {
      "cell_type": "markdown",
      "source": [
        "\n",
        "- This code sets up and evaluates a Graph Attention Network (GAT) model using the Cora and CiteSeer datasets. It starts by installing necessary libraries and importing required modules.\n",
        "\n",
        "- The SeedSetter class ensures reproducibility by setting random seeds. The GraphOperations class includes methods for performing graph convolutions, using attention mechanisms, and applying activation functions.\n",
        "\n",
        "- The GAT class defines a GAT model with two layers of attention, a forward pass, and methods for training and testing. The DataVisualizer class provides methods for visualizing node degree distributions and model accuracy based on node degrees.\n",
        "\n",
        "- The code performs the following steps: it initializes and trains a GAT model on the Cora dataset, evaluates its performance, and visualizes node degrees. It then does the same for the CiteSeer dataset, additionally plotting accuracy by node degree."
      ],
      "metadata": {
        "id": "cJ2ReqirILyZ"
      }
    },
    {
      "cell_type": "code",
      "source": [
        "!pip install -q torch-scatter~=2.1.0 torch-sparse~=0.6.16 torch-cluster~=1.6.0 torch-spline-conv~=1.2.1 torch-geometric==2.2.0 -f https://data.pyg.org/whl/torch-{torch.__version__}.html"
      ],
      "metadata": {
        "colab": {
          "base_uri": "https://localhost:8080/"
        },
        "id": "RV5GrU4N4gEN",
        "outputId": "7bddb860-e9dc-4a01-e077-6253804cd546"
      },
      "execution_count": 2,
      "outputs": [
        {
          "output_type": "stream",
          "name": "stdout",
          "text": [
            "\u001b[2K     \u001b[90m━━━━━━━━━━━━━━━━━━━━━━━━━━━━━━━━━━━━━━━━\u001b[0m \u001b[32m10.9/10.9 MB\u001b[0m \u001b[31m65.6 MB/s\u001b[0m eta \u001b[36m0:00:00\u001b[0m\n",
            "\u001b[2K     \u001b[90m━━━━━━━━━━━━━━━━━━━━━━━━━━━━━━━━━━━━━━━━\u001b[0m \u001b[32m5.1/5.1 MB\u001b[0m \u001b[31m88.6 MB/s\u001b[0m eta \u001b[36m0:00:00\u001b[0m\n",
            "\u001b[2K     \u001b[90m━━━━━━━━━━━━━━━━━━━━━━━━━━━━━━━━━━━━━━━━\u001b[0m \u001b[32m3.4/3.4 MB\u001b[0m \u001b[31m43.7 MB/s\u001b[0m eta \u001b[36m0:00:00\u001b[0m\n",
            "\u001b[2K     \u001b[90m━━━━━━━━━━━━━━━━━━━━━━━━━━━━━━━━━━━━━━━━\u001b[0m \u001b[32m947.1/947.1 kB\u001b[0m \u001b[31m33.8 MB/s\u001b[0m eta \u001b[36m0:00:00\u001b[0m\n",
            "\u001b[2K     \u001b[90m━━━━━━━━━━━━━━━━━━━━━━━━━━━━━━━━━━━━━━━━\u001b[0m \u001b[32m565.0/565.0 kB\u001b[0m \u001b[31m12.2 MB/s\u001b[0m eta \u001b[36m0:00:00\u001b[0m\n",
            "\u001b[?25h  Preparing metadata (setup.py) ... \u001b[?25l\u001b[?25hdone\n",
            "  Building wheel for torch-geometric (setup.py) ... \u001b[?25l\u001b[?25hdone\n"
          ]
        }
      ]
    },
    {
      "cell_type": "code",
      "source": [
        "import torch\n",
        "import numpy as np\n",
        "import matplotlib.pyplot as plt\n",
        "import torch.nn.functional as F\n",
        "from collections import Counter\n",
        "from torch.nn import Linear, Dropout\n",
        "from torch_geometric.nn import GATv2Conv\n",
        "from torch_geometric.utils import degree\n",
        "from torch_geometric.datasets import Planetoid"
      ],
      "metadata": {
        "id": "jBiSlgUd_u04"
      },
      "execution_count": 33,
      "outputs": []
    },
    {
      "cell_type": "markdown",
      "source": [
        "### **SeedSetter Class**\n",
        "\n",
        "- This class is responsible for setting random seeds to ensure reproducibility across different runs of the code.\n",
        "\n",
        "- By fixing the seed for various random number generators (e.g., PyTorch, NumPy), it ensures that the results of the experiments remain consistent."
      ],
      "metadata": {
        "id": "LFex3Kixnqpp"
      }
    },
    {
      "cell_type": "code",
      "source": [
        "# Seed Setter\n",
        "class SeedSetter:\n",
        "    @staticmethod\n",
        "    def set_seeds(seed=1):\n",
        "        torch.manual_seed(seed)\n",
        "        torch.cuda.manual_seed(seed)\n",
        "        torch.cuda.manual_seed_all(seed)\n",
        "        torch.backends.cudnn.deterministic = True\n",
        "        torch.backends.cudnn.benchmark = False\n",
        "        np.random.seed(seed)"
      ],
      "metadata": {
        "id": "bHeEVYpW_zyf"
      },
      "execution_count": 34,
      "outputs": []
    },
    {
      "cell_type": "markdown",
      "source": [
        "### **Graph Operations Class**\n",
        "\n",
        "- This class contains static methods to perform graph convolution operations manually using NumPy.\n",
        "\n",
        "- It includes a method for applying a custom graph convolution operation, a Leaky ReLU activation function, and a 2D softmax function.\n",
        "\n",
        "- These operations are foundational to graph neural networks, particularly for processing node and edge features."
      ],
      "metadata": {
        "id": "07Io4ov3KYzV"
      }
    },
    {
      "cell_type": "code",
      "source": [
        "class GraphOperations:\n",
        "    @staticmethod\n",
        "    def graph_convolution(A, X, W, W_att):\n",
        "        connections = np.where(A > 0)\n",
        "        concat = np.concatenate([(X @ W.T)[connections[0]], (X @ W.T)[connections[1]]], axis=1)\n",
        "        a = W_att @ concat.T\n",
        "        e = GraphOperations.leaky_relu(a)\n",
        "        E = np.zeros(A.shape)\n",
        "        E[connections[0], connections[1]] = e[0]\n",
        "        W_alpha = GraphOperations.softmax2D(E, 1)\n",
        "        H = A.T @ W_alpha @ X @ W.T\n",
        "        return H\n",
        "\n",
        "    @staticmethod\n",
        "    def leaky_relu(x, alpha=0.2):\n",
        "        return np.maximum(alpha * x, x)\n",
        "\n",
        "    @staticmethod\n",
        "    def softmax2D(x, axis):\n",
        "        e = np.exp(x - np.expand_dims(np.max(x, axis=axis), axis))\n",
        "        sum = np.expand_dims(np.sum(e, axis=axis), axis)\n",
        "        return e / sum"
      ],
      "metadata": {
        "id": "WwdsVX0r_2P-"
      },
      "execution_count": 54,
      "outputs": []
    },
    {
      "cell_type": "markdown",
      "source": [
        "### **GAT Model Class**\n",
        "\n",
        "- This class implements a Graph Attention Network (GAT) using PyTorch Geometric's GATv2Conv layer.\n",
        "\n",
        "- The model consists of two graph attention layers, with dropout and activation functions applied between them.\n",
        "\n",
        "- The class includes methods for training the model on node classification tasks, testing its accuracy, and calculating the accuracy metric.\n"
      ],
      "metadata": {
        "id": "6gud8uM9K6l1"
      }
    },
    {
      "cell_type": "code",
      "source": [
        "# GAT Model\n",
        "class GAT(torch.nn.Module):\n",
        "    def __init__(self, dim_in, dim_h, dim_out, heads=8):\n",
        "        super().__init__()\n",
        "        self.gat1 = GATv2Conv(dim_in, dim_h, heads=heads)\n",
        "        self.gat2 = GATv2Conv(dim_h * heads, dim_out, heads=1)\n",
        "\n",
        "    def forward(self, x, edge_index):\n",
        "        h = F.dropout(x, p=0.6, training=self.training)\n",
        "        h = self.gat1(h, edge_index)\n",
        "        h = F.elu(h)\n",
        "        h = F.dropout(h, p=0.6, training=self.training)\n",
        "        h = self.gat2(h, edge_index)\n",
        "        return F.log_softmax(h, dim=1)\n",
        "\n",
        "    def fit(self, data, epochs):\n",
        "        criterion = torch.nn.CrossEntropyLoss()\n",
        "        optimizer = torch.optim.Adam(self.parameters(), lr=0.01, weight_decay=0.01)\n",
        "        self.train()\n",
        "        for epoch in range(epochs + 1):\n",
        "            optimizer.zero_grad()\n",
        "            out = self(data.x, data.edge_index)\n",
        "            loss = criterion(out[data.train_mask], data.y[data.train_mask])\n",
        "            acc = self.accuracy(out[data.train_mask].argmax(dim=1), data.y[data.train_mask])\n",
        "            loss.backward()\n",
        "            optimizer.step()\n",
        "\n",
        "            if epoch % 20 == 0:\n",
        "                val_loss = criterion(out[data.val_mask], data.y[data.val_mask])\n",
        "                val_acc = self.accuracy(out[data.val_mask].argmax(dim=1), data.y[data.val_mask])\n",
        "                print(f'Epoch {epoch:>3} | Train Loss: {loss:.3f} | Train Acc: {acc*100:>5.2f}% | Val Loss: {val_loss:.2f} | Val Acc: {val_acc*100:.2f}%')\n",
        "\n",
        "    @torch.no_grad()\n",
        "    def test(self, data):\n",
        "        self.eval()\n",
        "        out = self(data.x, data.edge_index)\n",
        "        acc = self.accuracy(out.argmax(dim=1)[data.test_mask], data.y[data.test_mask])\n",
        "        return acc\n",
        "\n",
        "    @staticmethod\n",
        "    def accuracy(y_pred, y_true):\n",
        "        return torch.sum(y_pred == y_true) / len(y_true)"
      ],
      "metadata": {
        "id": "hl2w5Ccq_5BF"
      },
      "execution_count": 36,
      "outputs": []
    },
    {
      "cell_type": "markdown",
      "source": [
        "### **Data Visualization Class**\n",
        "\n",
        "- This class provides methods for visualizing data. It includes a method to plot the degree distribution of nodes in a graph, which shows how many nodes have a particular degree, and another method to plot accuracy scores against node degrees, helping to analyze how node connectivity affects model performance."
      ],
      "metadata": {
        "id": "tygH4T_HJ-Jp"
      }
    },
    {
      "cell_type": "code",
      "source": [
        "class DataVisualizer:\n",
        "    @staticmethod\n",
        "    def plot_degree_distribution(data):\n",
        "        degrees = degree(data.edge_index[0]).numpy()\n",
        "        numbers = Counter(degrees)\n",
        "        fig, ax = plt.subplots()\n",
        "        ax.set_xlabel('Node degree')\n",
        "        ax.set_ylabel('Number of nodes')\n",
        "        plt.bar(numbers.keys(), numbers.values())\n",
        "        plt.show()\n",
        "\n",
        "    @staticmethod\n",
        "    def plot_accuracy_by_degree(degrees, accuracies, sizes):\n",
        "        fig, ax = plt.subplots()\n",
        "        ax.set_xlabel('Node degree')\n",
        "        ax.set_ylabel('Accuracy score')\n",
        "        plt.bar(['0', '1', '2', '3', '4', '5', '6+'], accuracies)\n",
        "        for i in range(0, 7):\n",
        "            plt.text(i, accuracies[i], f'{accuracies[i]*100:.2f}%', ha='center', color='black')\n",
        "        for i in range(0, 7):\n",
        "            plt.text(i, accuracies[i] // 2, sizes[i], ha='center', color='white')\n",
        "        plt.show()"
      ],
      "metadata": {
        "id": "gSIqV25IKFcl"
      },
      "execution_count": 37,
      "outputs": []
    },
    {
      "cell_type": "code",
      "source": [
        "# Set seeds\n",
        "SeedSetter.set_seeds()\n",
        "\n",
        "# Load Cora dataset\n",
        "dataset_cora = Planetoid(root=\".\", name=\"Cora\")\n",
        "data_cora = dataset_cora[0]"
      ],
      "metadata": {
        "id": "UdFkh74B_61j"
      },
      "execution_count": 50,
      "outputs": []
    },
    {
      "cell_type": "markdown",
      "source": [
        "### **Graph Convolution Operation Example**"
      ],
      "metadata": {
        "id": "YJXSFVCYKRn2"
      }
    },
    {
      "cell_type": "code",
      "source": [
        "A = np.array([\n",
        "    [1, 1, 1, 1],\n",
        "    [1, 1, 0, 0],\n",
        "    [1, 0, 1, 1],\n",
        "    [1, 0, 1, 1]\n",
        "  ])\n",
        "X = np.random.uniform(-1, 1, (4, 4))\n",
        "W = np.random.uniform(-1, 1, (2, 4))\n",
        "W_att = np.random.uniform(-1, 1, (1, 4))\n",
        "H = GraphOperations.graph_convolution(A, X, W, W_att)\n",
        "print(\"Graph Convolution Output:\\n\", H)"
      ],
      "metadata": {
        "colab": {
          "base_uri": "https://localhost:8080/"
        },
        "id": "fx13bRwLELS7",
        "outputId": "989d0365-22f1-4189-f0e2-53c09c82c4e4"
      },
      "execution_count": 51,
      "outputs": [
        {
          "output_type": "stream",
          "name": "stdout",
          "text": [
            "Graph Convolution Output:\n",
            " [[ 1.91740248 -0.16073368]\n",
            " [ 1.01832447 -0.31917017]\n",
            " [ 1.37737072 -0.21103129]\n",
            " [ 1.37737072 -0.21103129]]\n"
          ]
        }
      ]
    },
    {
      "cell_type": "markdown",
      "source": [
        "### **Create and Train GAT Model on Cora Dataset**"
      ],
      "metadata": {
        "id": "pjLBXttV6DB7"
      }
    },
    {
      "cell_type": "code",
      "source": [
        "gat_cora = GAT(dataset_cora.num_features, 32, dataset_cora.num_classes)\n",
        "print(gat_cora)\n",
        "gat_cora.fit(data_cora, epochs=100)\n",
        "acc_cora = gat_cora.test(data_cora)\n",
        "print(f'GAT test accuracy on Cora: {acc_cora*100:.2f}%')"
      ],
      "metadata": {
        "colab": {
          "base_uri": "https://localhost:8080/"
        },
        "id": "bTxN3s3jmMSY",
        "outputId": "32fb063c-a790-4a8f-8e1b-ee6af29d651a"
      },
      "execution_count": 52,
      "outputs": [
        {
          "output_type": "stream",
          "name": "stdout",
          "text": [
            "GAT(\n",
            "  (gat1): GATv2Conv(1433, 32, heads=8)\n",
            "  (gat2): GATv2Conv(256, 7, heads=1)\n",
            ")\n",
            "Epoch   0 | Train Loss: 1.969 | Train Acc: 15.00% | Val Loss: 1.96 | Val Acc: 11.80%\n",
            "Epoch  20 | Train Loss: 0.259 | Train Acc: 96.43% | Val Loss: 1.10 | Val Acc: 67.60%\n",
            "Epoch  40 | Train Loss: 0.163 | Train Acc: 98.57% | Val Loss: 0.90 | Val Acc: 70.80%\n",
            "Epoch  60 | Train Loss: 0.205 | Train Acc: 98.57% | Val Loss: 0.96 | Val Acc: 69.00%\n",
            "Epoch  80 | Train Loss: 0.130 | Train Acc: 100.00% | Val Loss: 0.91 | Val Acc: 70.80%\n",
            "Epoch 100 | Train Loss: 0.148 | Train Acc: 99.29% | Val Loss: 0.90 | Val Acc: 73.20%\n",
            "GAT test accuracy on Cora: 82.00%\n"
          ]
        }
      ]
    },
    {
      "cell_type": "markdown",
      "source": [
        "### Plot Degree Distribution"
      ],
      "metadata": {
        "id": "BKBwDBdVodp9"
      }
    },
    {
      "cell_type": "code",
      "source": [
        "# Load CiteSeer dataset\n",
        "dataset_citeseer = Planetoid(root=\".\", name=\"CiteSeer\")\n",
        "data_citeseer = dataset_citeseer[0]\n",
        "\n",
        "# Plot Degree Distribution\n",
        "DataVisualizer.plot_degree_distribution(data_citeseer)"
      ],
      "metadata": {
        "colab": {
          "base_uri": "https://localhost:8080/",
          "height": 449
        },
        "id": "KGnondRTmOF4",
        "outputId": "7e47cf90-a66c-4c88-a6d2-efabc22fc0e2"
      },
      "execution_count": 53,
      "outputs": [
        {
          "output_type": "display_data",
          "data": {
            "text/plain": [
              "<Figure size 640x480 with 1 Axes>"
            ],
            "image/png": "[encoded data removed]"
          },
          "metadata": {}
        }
      ]
    },
    {
      "cell_type": "markdown",
      "source": [
        "### **Create and Train GAT Model on CiteSeer Dataset**"
      ],
      "metadata": {
        "id": "qIde9CGvohk3"
      }
    },
    {
      "cell_type": "code",
      "source": [
        "gat_citeseer = GAT(dataset_citeseer.num_features, 16, dataset_citeseer.num_classes)\n",
        "print(gat_citeseer)\n",
        "gat_citeseer.fit(data_citeseer, epochs=100)\n",
        "acc_citeseer = gat_citeseer.test(data_citeseer)\n",
        "print(f'GAT test accuracy on CiteSeer: {acc_citeseer*100:.2f}%')"
      ],
      "metadata": {
        "colab": {
          "base_uri": "https://localhost:8080/"
        },
        "id": "FfC2jTL0mP2K",
        "outputId": "8ae591d2-ca7f-4d28-85ba-e6d3c836e909"
      },
      "execution_count": 44,
      "outputs": [
        {
          "output_type": "stream",
          "name": "stdout",
          "text": [
            "GAT(\n",
            "  (gat1): GATv2Conv(3703, 16, heads=8)\n",
            "  (gat2): GATv2Conv(128, 6, heads=1)\n",
            ")\n",
            "Epoch   0 | Train Loss: 1.796 | Train Acc: 18.33% | Val Loss: 1.80 | Val Acc: 17.60%\n",
            "Epoch  20 | Train Loss: 0.130 | Train Acc: 99.17% | Val Loss: 1.13 | Val Acc: 62.40%\n",
            "Epoch  40 | Train Loss: 0.155 | Train Acc: 98.33% | Val Loss: 1.23 | Val Acc: 59.00%\n",
            "Epoch  60 | Train Loss: 0.135 | Train Acc: 97.50% | Val Loss: 1.27 | Val Acc: 58.20%\n",
            "Epoch  80 | Train Loss: 0.124 | Train Acc: 99.17% | Val Loss: 1.23 | Val Acc: 60.00%\n",
            "Epoch 100 | Train Loss: 0.141 | Train Acc: 98.33% | Val Loss: 1.21 | Val Acc: 61.40%\n",
            "GAT test accuracy on CiteSeer: 68.50%\n"
          ]
        }
      ]
    },
    {
      "cell_type": "code",
      "source": [
        "out = gat_citeseer(data_citeseer.x, data_citeseer.edge_index)                                           # Get model's classifications\n",
        "degrees = degree(data_citeseer.edge_index[0]).numpy()                                                   # Calculate the degree of each node\n",
        "accuracies = []                                                                                         # Store accuracy scores and sample sizes\n",
        "sizes = []"
      ],
      "metadata": {
        "id": "HpoX8GzHmRzy"
      },
      "execution_count": 49,
      "outputs": []
    },
    {
      "cell_type": "code",
      "source": [
        "# Accuracy for degrees between 0 and 5\n",
        "for i in range(0, 6):\n",
        "    mask = np.where(degrees == i)[0]\n",
        "    accuracies.append(gat_citeseer.accuracy(out.argmax(dim=1)[mask], data_citeseer.y[mask]))\n",
        "    sizes.append(len(mask))\n",
        "\n",
        "# Accuracy for degrees > 5\n",
        "mask = np.where(degrees > 5)[0]\n",
        "accuracies.append(gat_citeseer.accuracy(out.argmax(dim=1)[mask], data_citeseer.y[mask]))\n",
        "sizes.append(len(mask))"
      ],
      "metadata": {
        "id": "ZC2vtSubmTiP"
      },
      "execution_count": 46,
      "outputs": []
    },
    {
      "cell_type": "markdown",
      "source": [
        "### **Plot Accuracy by Degree**"
      ],
      "metadata": {
        "id": "rj-W1wmPorIQ"
      }
    },
    {
      "cell_type": "code",
      "source": [
        "DataVisualizer.plot_accuracy_by_degree(degrees, accuracies, sizes)"
      ],
      "metadata": {
        "colab": {
          "base_uri": "https://localhost:8080/",
          "height": 449
        },
        "id": "4YxQC0RhmVFJ",
        "outputId": "a4afda6c-d420-418f-960a-268fdba5734e"
      },
      "execution_count": 48,
      "outputs": [
        {
          "output_type": "display_data",
          "data": {
            "text/plain": [
              "<Figure size 640x480 with 1 Axes>"
            ],
            "image/png": "[encoded data removed]"
          },
          "metadata": {}
        }
      ]
    }
  ]
}